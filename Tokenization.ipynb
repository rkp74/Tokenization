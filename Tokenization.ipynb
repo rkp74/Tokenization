{
  "nbformat": 4,
  "nbformat_minor": 0,
  "metadata": {
    "colab": {
      "provenance": [],
      "authorship_tag": "ABX9TyN9jcielUtIy7vGTAX8n/m5",
      "include_colab_link": true
    },
    "kernelspec": {
      "name": "python3",
      "display_name": "Python 3"
    },
    "language_info": {
      "name": "python"
    }
  },
  "cells": [
    {
      "cell_type": "markdown",
      "metadata": {
        "id": "view-in-github",
        "colab_type": "text"
      },
      "source": [
        "<a href=\"https://colab.research.google.com/github/rkp74/Tokenization/blob/main/Tokenization.ipynb\" target=\"_parent\"><img src=\"https://colab.research.google.com/assets/colab-badge.svg\" alt=\"Open In Colab\"/></a>"
      ]
    },
    {
      "cell_type": "code",
      "execution_count": 15,
      "metadata": {
        "id": "YxYPEJktX3tA"
      },
      "outputs": [],
      "source": [
        "import nltk"
      ]
    },
    {
      "cell_type": "code",
      "source": [
        "# These are all Functions inside nltk library.\n",
        "\n",
        "nltk.download()"
      ],
      "metadata": {
        "colab": {
          "base_uri": "https://localhost:8080/"
        },
        "id": "QlHl6qvYcoLX",
        "outputId": "cf950f7c-2e45-45be-d2e4-8c2b18e0c915"
      },
      "execution_count": 16,
      "outputs": [
        {
          "name": "stdout",
          "output_type": "stream",
          "text": [
            "NLTK Downloader\n",
            "---------------------------------------------------------------------------\n",
            "    d) Download   l) List    u) Update   c) Config   h) Help   q) Quit\n",
            "---------------------------------------------------------------------------\n",
            "Downloader> l\n",
            "\n",
            "Packages:\n",
            "  [*] abc................. Australian Broadcasting Commission 2006\n",
            "  [*] alpino.............. Alpino Dutch Treebank\n",
            "  [ ] averaged_perceptron_tagger Averaged Perceptron Tagger\n",
            "  [ ] averaged_perceptron_tagger_ru Averaged Perceptron Tagger (Russian)\n",
            "  [ ] basque_grammars..... Grammars for Basque\n",
            "  [*] bcp47............... BCP-47 Language Tags\n",
            "  [*] biocreative_ppi..... BioCreAtIvE (Critical Assessment of Information\n",
            "                           Extraction Systems in Biology)\n",
            "  [ ] bllip_wsj_no_aux.... BLLIP Parser: WSJ Model\n",
            "  [ ] book_grammars....... Grammars from NLTK Book\n",
            "  [*] brown............... Brown Corpus\n",
            "  [*] brown_tei........... Brown Corpus (TEI XML Version)\n",
            "  [*] cess_cat............ CESS-CAT Treebank\n",
            "  [*] cess_esp............ CESS-ESP Treebank\n",
            "  [*] chat80.............. Chat-80 Data Files\n",
            "  [*] city_database....... City Database\n",
            "  [*] cmudict............. The Carnegie Mellon Pronouncing Dictionary (0.6)\n",
            "  [*] comparative_sentences Comparative Sentence Dataset\n",
            "  [*] comtrans............ ComTrans Corpus Sample\n",
            "  [*] conll2000........... CONLL 2000 Chunking Corpus\n",
            "Hit Enter to continue: \n",
            "Hit Enter to continue: \n",
            "  [*] conll2002........... CONLL 2002 Named Entity Recognition Corpus\n",
            "  [*] conll2007........... Dependency Treebanks from CoNLL 2007 (Catalan\n",
            "                           and Basque Subset)\n",
            "  [*] crubadan............ Crubadan Corpus\n",
            "  [*] dependency_treebank. Dependency Parsed Treebank\n",
            "  [*] dolch............... Dolch Word List\n",
            "  [*] europarl_raw........ Sample European Parliament Proceedings Parallel\n",
            "                           Corpus\n",
            "  [*] extended_omw........ Extended Open Multilingual WordNet\n",
            "  [*] floresta............ Portuguese Treebank\n",
            "  [*] framenet_v15........ FrameNet 1.5\n",
            "  [*] framenet_v17........ FrameNet 1.7\n",
            "  [*] gazetteers.......... Gazeteer Lists\n",
            "  [*] genesis............. Genesis Corpus\n",
            "  [*] gutenberg........... Project Gutenberg Selections\n",
            "  [*] ieer................ NIST IE-ER DATA SAMPLE\n",
            "  [*] inaugural........... C-Span Inaugural Address Corpus\n",
            "  [*] indian.............. Indian Language POS-Tagged Corpus\n",
            "  [*] jeita............... JEITA Public Morphologically Tagged Corpus (in\n",
            "                           ChaSen format)\n",
            "  [*] kimmo............... PC-KIMMO Data Files\n",
            "  [*] knbc................ KNB Corpus (Annotated blog corpus)\n",
            "  [ ] large_grammars...... Large context-free and feature-based grammars\n",
            "                           for parser comparison\n",
            "  [*] lin_thesaurus....... Lin's Dependency Thesaurus\n",
            "  [*] mac_morpho.......... MAC-MORPHO: Brazilian Portuguese news text with\n",
            "                           part-of-speech tags\n",
            "  [*] machado............. Machado de Assis -- Obra Completa\n",
            "  [*] masc_tagged......... MASC Tagged Corpus\n",
            "  [ ] maxent_ne_chunker... ACE Named Entity Chunker (Maximum entropy)\n",
            "  [ ] maxent_treebank_pos_tagger Treebank Part of Speech Tagger (Maximum entropy)\n",
            "  [ ] moses_sample........ Moses Sample Models\n",
            "  [*] movie_reviews....... Sentiment Polarity Dataset Version 2.0\n",
            "  [*] mte_teip5........... MULTEXT-East 1984 annotated corpus 4.0\n",
            "  [ ] mwa_ppdb............ The monolingual word aligner (Sultan et al.\n",
            "                           2015) subset of the Paraphrase Database.\n",
            "  [*] names............... Names Corpus, Version 1.3 (1994-03-29)\n",
            "  [*] nombank.1.0......... NomBank Corpus 1.0\n",
            "  [*] nonbreaking_prefixes Non-Breaking Prefixes (Moses Decoder)\n",
            "  [*] nps_chat............ NPS Chat\n",
            "  [*] omw-1.4............. Open Multilingual Wordnet\n",
            "  [*] omw................. Open Multilingual Wordnet\n",
            "Hit Enter to continue: \n",
            "Hit Enter to continue: \n",
            "  [*] opinion_lexicon..... Opinion Lexicon\n",
            "  [*] panlex_swadesh...... PanLex Swadesh Corpora\n",
            "  [*] paradigms........... Paradigm Corpus\n",
            "  [*] pe08................ Cross-Framework and Cross-Domain Parser\n",
            "                           Evaluation Shared Task\n",
            "  [ ] perluniprops........ perluniprops: Index of Unicode Version 7.0.0\n",
            "                           character properties in Perl\n",
            "  [*] pil................. The Patient Information Leaflet (PIL) Corpus\n",
            "  [*] pl196x.............. Polish language of the XX century sixties\n",
            "  [ ] porter_test......... Porter Stemmer Test Files\n",
            "  [*] ppattach............ Prepositional Phrase Attachment Corpus\n",
            "  [*] problem_reports..... Problem Report Corpus\n",
            "  [*] product_reviews_1... Product Reviews (5 Products)\n",
            "  [*] product_reviews_2... Product Reviews (9 Products)\n",
            "  [*] propbank............ Proposition Bank Corpus 1.0\n",
            "  [*] pros_cons........... Pros and Cons\n",
            "  [*] ptb................. Penn Treebank\n",
            "  [*] punkt............... Punkt Tokenizer Models\n",
            "  [*] qc.................. Experimental Data for Question Classification\n",
            "  [*] reuters............. The Reuters-21578 benchmark corpus, ApteMod\n",
            "                           version\n",
            "  [ ] rslp................ RSLP Stemmer (Removedor de Sufixos da Lingua\n",
            "                           Portuguesa)\n",
            "  [*] rte................. PASCAL RTE Challenges 1, 2, and 3\n",
            "  [ ] sample_grammars..... Sample Grammars\n",
            "  [*] semcor.............. SemCor 3.0\n",
            "  [*] senseval............ SENSEVAL 2 Corpus: Sense Tagged Text\n",
            "  [*] sentence_polarity... Sentence Polarity Dataset v1.0\n",
            "  [*] sentiwordnet........ SentiWordNet\n",
            "  [*] shakespeare......... Shakespeare XML Corpus Sample\n",
            "  [*] sinica_treebank..... Sinica Treebank Corpus Sample\n",
            "  [*] smultron............ SMULTRON Corpus Sample\n",
            "  [ ] snowball_data....... Snowball Data\n",
            "  [ ] spanish_grammars.... Grammars for Spanish\n",
            "  [*] state_union......... C-Span State of the Union Address Corpus\n",
            "  [*] stopwords........... Stopwords Corpus\n",
            "  [*] subjectivity........ Subjectivity Dataset v1.0\n",
            "  [*] swadesh............. Swadesh Wordlists\n",
            "  [*] switchboard......... Switchboard Corpus Sample\n",
            "  [ ] tagsets............. Help on Tagsets\n",
            "  [*] timit............... TIMIT Corpus Sample\n",
            "  [*] toolbox............. Toolbox Sample Files\n",
            "Hit Enter to continue: \n",
            "  [*] treebank............ Penn Treebank Sample\n",
            "  [*] twitter_samples..... Twitter Samples\n",
            "  [*] udhr2............... Universal Declaration of Human Rights Corpus\n",
            "                           (Unicode Version)\n",
            "  [*] udhr................ Universal Declaration of Human Rights Corpus\n",
            "  [*] unicode_samples..... Unicode Samples\n",
            "  [ ] universal_tagset.... Mappings to the Universal Part-of-Speech Tagset\n",
            "  [*] universal_treebanks_v20 Universal Treebanks Version 2.0\n",
            "  [ ] vader_lexicon....... VADER Sentiment Lexicon\n",
            "  [*] verbnet3............ VerbNet Lexicon, Version 3.3\n",
            "  [*] verbnet............. VerbNet Lexicon, Version 2.1\n",
            "  [*] webtext............. Web Text Corpus\n",
            "  [ ] wmt15_eval.......... Evaluation data from WMT15\n",
            "  [ ] word2vec_sample..... Word2Vec Sample\n",
            "  [*] wordnet2021......... Open English Wordnet 2021\n",
            "  [*] wordnet2022......... Open English Wordnet 2022\n",
            "  [*] wordnet31........... Wordnet 3.1\n",
            "  [*] wordnet............. WordNet\n",
            "  [*] wordnet_ic.......... WordNet-InfoContent\n",
            "  [*] words............... Word Lists\n",
            "  [*] ycoe................ York-Toronto-Helsinki Parsed Corpus of Old\n",
            "                           English Prose\n",
            "Hit Enter to continue: \n",
            "\n",
            "Collections:\n",
            "  [*] all-corpora......... All the corpora\n",
            "  [P] all-nltk............ All packages available on nltk_data gh-pages\n",
            "                           branch\n",
            "  [P] all................. All packages\n",
            "  [P] book................ Everything used in the NLTK Book\n",
            "  [P] popular............. Popular packages\n",
            "  [P] tests............... Packages for running tests\n",
            "  [*] third-party......... Third-party data packages\n",
            "\n",
            "([*] marks installed packages; [P] marks partially installed collections)\n",
            "\n",
            "---------------------------------------------------------------------------\n",
            "    d) Download   l) List    u) Update   c) Config   h) Help   q) Quit\n",
            "---------------------------------------------------------------------------\n",
            "Downloader> q\n"
          ]
        },
        {
          "output_type": "execute_result",
          "data": {
            "text/plain": [
              "True"
            ]
          },
          "metadata": {},
          "execution_count": 16
        }
      ]
    },
    {
      "cell_type": "code",
      "source": [
        "nltk.download('punkt')"
      ],
      "metadata": {
        "colab": {
          "base_uri": "https://localhost:8080/"
        },
        "id": "0TEBGM5_bkPP",
        "outputId": "f37062b4-7a99-4690-df9b-421f757cce3b"
      },
      "execution_count": null,
      "outputs": [
        {
          "output_type": "stream",
          "name": "stderr",
          "text": [
            "[nltk_data] Downloading package punkt to /root/nltk_data...\n",
            "[nltk_data]   Package punkt is already up-to-date!\n"
          ]
        },
        {
          "output_type": "execute_result",
          "data": {
            "text/plain": [
              "True"
            ]
          },
          "metadata": {},
          "execution_count": 5
        }
      ]
    },
    {
      "cell_type": "code",
      "source": [
        "Paragraph = \"\"\" Deep learning is part of a broader family of machine learning methods based on artificial neural networks with representation learning. Learning can be supervised, semi-supervised or unsupervised.[2]\n",
        "\n",
        "Deep-learning architectures such as deep neural networks, deep belief networks, deep reinforcement learning, recurrent neural networks, convolutional neural networks and transformers have been applied to fields including computer vision, speech recognition, natural language processing, machine translation, bioinformatics, drug design, medical image analysis, climate science, material inspection and board game programs, where they have produced results comparable to and in some cases surpassing human expert performance.[3][4][5]\n",
        "\n",
        "Artificial neural networks (ANNs) were inspired by information processing and distributed communication nodes in biological systems. ANNs have various differences from biological brains. Specifically, artificial neural networks tend to be static and symbolic, while the biological brain of most living organisms is dynamic (plastic) and analog.[6][7]\n",
        "\n",
        "The adjective \"deep\" in deep learning refers to the use of multiple layers in the network. Early work showed that a linear perceptron cannot be a universal classifier, but that a network with a nonpolynomial activation function with one hidden layer of unbounded width can. Deep learning is a modern variation that is concerned with an unbounded number of layers of bounded size, which permits practical application and optimized implementation, while retaining theoretical universality under mild conditions. In deep learning the layers are also permitted to be heterogeneous and to deviate widely from biologically informed connectionist models, for the sake of efficiency, trainability and understandability.\"\"\""
      ],
      "metadata": {
        "id": "bWs_A0sybw5c"
      },
      "execution_count": null,
      "outputs": []
    },
    {
      "cell_type": "code",
      "source": [
        "Sentences = nltk.sent_tokenize(Paragraph)\n",
        "print(Sentences)"
      ],
      "metadata": {
        "colab": {
          "base_uri": "https://localhost:8080/"
        },
        "id": "1MjoKDf-cM7q",
        "outputId": "5d2e1a91-d2e1-4c89-a6ac-0d61d1be7d4c"
      },
      "execution_count": null,
      "outputs": [
        {
          "output_type": "stream",
          "name": "stdout",
          "text": [
            "[' Deep learning is part of a broader family of machine learning methods based on artificial neural networks with representation learning.', 'Learning can be supervised, semi-supervised or unsupervised.', '[2]\\n\\nDeep-learning architectures such as deep neural networks, deep belief networks, deep reinforcement learning, recurrent neural networks, convolutional neural networks and transformers have been applied to fields including computer vision, speech recognition, natural language processing, machine translation, bioinformatics, drug design, medical image analysis, climate science, material inspection and board game programs, where they have produced results comparable to and in some cases surpassing human expert performance.', '[3][4][5]\\n\\nArtificial neural networks (ANNs) were inspired by information processing and distributed communication nodes in biological systems.', 'ANNs have various differences from biological brains.', 'Specifically, artificial neural networks tend to be static and symbolic, while the biological brain of most living organisms is dynamic (plastic) and analog.', '[6][7]\\n\\nThe adjective \"deep\" in deep learning refers to the use of multiple layers in the network.', 'Early work showed that a linear perceptron cannot be a universal classifier, but that a network with a nonpolynomial activation function with one hidden layer of unbounded width can.', 'Deep learning is a modern variation that is concerned with an unbounded number of layers of bounded size, which permits practical application and optimized implementation, while retaining theoretical universality under mild conditions.', 'In deep learning the layers are also permitted to be heterogeneous and to deviate widely from biologically informed connectionist models, for the sake of efficiency, trainability and understandability.']\n"
          ]
        }
      ]
    },
    {
      "cell_type": "code",
      "source": [
        "Words = nltk.word_tokenize(Paragraph)\n",
        "print(Words)"
      ],
      "metadata": {
        "colab": {
          "base_uri": "https://localhost:8080/"
        },
        "id": "_VQD1vTgd_bq",
        "outputId": "d4015022-5f57-4071-d222-575ecbe5df9b"
      },
      "execution_count": null,
      "outputs": [
        {
          "output_type": "stream",
          "name": "stdout",
          "text": [
            "['Deep', 'learning', 'is', 'part', 'of', 'a', 'broader', 'family', 'of', 'machine', 'learning', 'methods', 'based', 'on', 'artificial', 'neural', 'networks', 'with', 'representation', 'learning', '.', 'Learning', 'can', 'be', 'supervised', ',', 'semi-supervised', 'or', 'unsupervised', '.', '[', '2', ']', 'Deep-learning', 'architectures', 'such', 'as', 'deep', 'neural', 'networks', ',', 'deep', 'belief', 'networks', ',', 'deep', 'reinforcement', 'learning', ',', 'recurrent', 'neural', 'networks', ',', 'convolutional', 'neural', 'networks', 'and', 'transformers', 'have', 'been', 'applied', 'to', 'fields', 'including', 'computer', 'vision', ',', 'speech', 'recognition', ',', 'natural', 'language', 'processing', ',', 'machine', 'translation', ',', 'bioinformatics', ',', 'drug', 'design', ',', 'medical', 'image', 'analysis', ',', 'climate', 'science', ',', 'material', 'inspection', 'and', 'board', 'game', 'programs', ',', 'where', 'they', 'have', 'produced', 'results', 'comparable', 'to', 'and', 'in', 'some', 'cases', 'surpassing', 'human', 'expert', 'performance', '.', '[', '3', ']', '[', '4', ']', '[', '5', ']', 'Artificial', 'neural', 'networks', '(', 'ANNs', ')', 'were', 'inspired', 'by', 'information', 'processing', 'and', 'distributed', 'communication', 'nodes', 'in', 'biological', 'systems', '.', 'ANNs', 'have', 'various', 'differences', 'from', 'biological', 'brains', '.', 'Specifically', ',', 'artificial', 'neural', 'networks', 'tend', 'to', 'be', 'static', 'and', 'symbolic', ',', 'while', 'the', 'biological', 'brain', 'of', 'most', 'living', 'organisms', 'is', 'dynamic', '(', 'plastic', ')', 'and', 'analog', '.', '[', '6', ']', '[', '7', ']', 'The', 'adjective', '``', 'deep', \"''\", 'in', 'deep', 'learning', 'refers', 'to', 'the', 'use', 'of', 'multiple', 'layers', 'in', 'the', 'network', '.', 'Early', 'work', 'showed', 'that', 'a', 'linear', 'perceptron', 'can', 'not', 'be', 'a', 'universal', 'classifier', ',', 'but', 'that', 'a', 'network', 'with', 'a', 'nonpolynomial', 'activation', 'function', 'with', 'one', 'hidden', 'layer', 'of', 'unbounded', 'width', 'can', '.', 'Deep', 'learning', 'is', 'a', 'modern', 'variation', 'that', 'is', 'concerned', 'with', 'an', 'unbounded', 'number', 'of', 'layers', 'of', 'bounded', 'size', ',', 'which', 'permits', 'practical', 'application', 'and', 'optimized', 'implementation', ',', 'while', 'retaining', 'theoretical', 'universality', 'under', 'mild', 'conditions', '.', 'In', 'deep', 'learning', 'the', 'layers', 'are', 'also', 'permitted', 'to', 'be', 'heterogeneous', 'and', 'to', 'deviate', 'widely', 'from', 'biologically', 'informed', 'connectionist', 'models', ',', 'for', 'the', 'sake', 'of', 'efficiency', ',', 'trainability', 'and', 'understandability', '.']\n"
          ]
        }
      ]
    }
  ]
}